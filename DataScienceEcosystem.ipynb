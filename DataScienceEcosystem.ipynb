{
 "cells": [
  {
   "cell_type": "markdown",
   "id": "590cb39c-30b1-4f39-85a7-33ec4bd4aa9a",
   "metadata": {},
   "source": [
    "# Data Sceince Ecosystem"
   ]
  },
  {
   "cell_type": "markdown",
   "id": "6995d8df-f37d-4efe-aef7-9311ad515a95",
   "metadata": {},
   "source": [
    "**Exercise - 3**"
   ]
  },
  {
   "cell_type": "markdown",
   "id": "91a88296-2498-4032-870b-be10baf894f6",
   "metadata": {},
   "source": [
    "In this notebook, Data Science Tools and Ecosystem are summarized."
   ]
  },
  {
   "cell_type": "markdown",
   "id": "2e435efd-f254-424f-a22b-d8a8d71a1f6a",
   "metadata": {},
   "source": [
    "**Objectives:**\n",
    "* List popular languages that Data Scientists use.\n",
    "* List commonly used libraries used by Data Scientists.\n",
    "* List of commonly used Data Science tools."
   ]
  },
  {
   "cell_type": "markdown",
   "id": "b7087cb3-9a2c-41fd-b678-fd08b09ea4ee",
   "metadata": {},
   "source": [
    "**Exercise -4**"
   ]
  },
  {
   "cell_type": "markdown",
   "id": "7b85b094-a8f2-43eb-bdb9-ca224f4988e7",
   "metadata": {},
   "source": [
    "Some of the popular languages that Data Scientists use are:\n",
    "1. Python\n",
    "2. Java \n",
    "3. SQL \n",
    "4. Scala\n",
    "\n"
   ]
  },
  {
   "cell_type": "markdown",
   "id": "1aa59b92-11be-43df-b40f-58eb037e6c95",
   "metadata": {},
   "source": [
    "**Exercise - 5**"
   ]
  },
  {
   "cell_type": "markdown",
   "id": "e7088e96-ef17-4dfa-9df9-73be408a7673",
   "metadata": {
    "tags": []
   },
   "source": [
    "Some of the commonly used libraries used by Data Scientists include:\n",
    "1. Tensor Flow \n",
    "2. Pandas\n",
    "3. NumPy\n",
    "4. Matplotlib\n",
    "5. Keras"
   ]
  },
  {
   "cell_type": "markdown",
   "id": "5bf51951-5b92-4b81-88f7-7dae5ff36967",
   "metadata": {},
   "source": [
    "**Exercise- 6**"
   ]
  },
  {
   "cell_type": "markdown",
   "id": "62f98dce-cb29-4b4f-b4ff-f543fb44c3b6",
   "metadata": {},
   "source": [
    "| Data Science Tools |\n",
    "|--------------------|\n",
    "| Jupyter Notebook   |\n",
    "| RStudio            |\n",
    "| Apache Zeppelin    |\n"
   ]
  },
  {
   "cell_type": "markdown",
   "id": "b77bf043-60f9-4101-a6ff-37b79509cb9c",
   "metadata": {
    "tags": []
   },
   "source": [
    "**Exercise-7**"
   ]
  },
  {
   "cell_type": "markdown",
   "id": "a6ac8fd5-2e0b-4528-9918-8e667c1b40d4",
   "metadata": {},
   "source": [
    "### Below are a few examples of evaluating arithmetic expressions in Python"
   ]
  },
  {
   "cell_type": "code",
   "execution_count": 3,
   "id": "7a063b02-f6b8-45fc-a7e2-e3653754889e",
   "metadata": {
    "tags": []
   },
   "outputs": [
    {
     "name": "stdout",
     "output_type": "stream",
     "text": [
      "11\n"
     ]
    }
   ],
   "source": [
    "# Addition of two integres:\n",
    "a = 5\n",
    "b = 6\n",
    "print(a+b)"
   ]
  },
  {
   "cell_type": "code",
   "execution_count": 6,
   "id": "f6e93898-cbd8-42e7-94c5-6d9aa52d8fcf",
   "metadata": {
    "tags": []
   },
   "outputs": [
    {
     "name": "stdout",
     "output_type": "stream",
     "text": [
      "19\n"
     ]
    }
   ],
   "source": [
    "# Subtraction of two integers:\n",
    "c = 20\n",
    "d = 1\n",
    "print(c-d)"
   ]
  },
  {
   "cell_type": "code",
   "execution_count": 7,
   "id": "9e104461-3f05-4052-8489-c25cc721483b",
   "metadata": {
    "tags": []
   },
   "outputs": [
    {
     "name": "stdout",
     "output_type": "stream",
     "text": [
      "200\n",
      "2.0\n"
     ]
    }
   ],
   "source": [
    "# Multiplication and Division of two integers:\n",
    "x = 20\n",
    "y = 10\n",
    "x1 = x*y\n",
    "y1 = x/y\n",
    "print(x1)\n",
    "print(y1)"
   ]
  },
  {
   "cell_type": "markdown",
   "id": "c27c9e27-ebc7-4842-b85c-1d907e52699e",
   "metadata": {},
   "source": [
    "**Exercise - 8**"
   ]
  },
  {
   "cell_type": "code",
   "execution_count": 9,
   "id": "954c038a-fd8d-4ce6-a7f9-403ffb840ace",
   "metadata": {
    "tags": []
   },
   "outputs": [
    {
     "name": "stdout",
     "output_type": "stream",
     "text": [
      "17\n"
     ]
    }
   ],
   "source": [
    "# This a simple arithmetic expression to mutiply then add integers:\n",
    "w = (3*4)+5\n",
    "print(w)"
   ]
  },
  {
   "cell_type": "markdown",
   "id": "a1c77f2b-e8ea-4011-be86-030ac5cc7791",
   "metadata": {},
   "source": [
    "**Exercise-9**"
   ]
  },
  {
   "cell_type": "code",
   "execution_count": 12,
   "id": "e4b0d16c-1903-4438-b497-a8913771e753",
   "metadata": {
    "tags": []
   },
   "outputs": [
    {
     "name": "stdout",
     "output_type": "stream",
     "text": [
      "3.3333333333333335 hours\n"
     ]
    }
   ],
   "source": [
    "time = 200\n",
    "# This will convert 200 minutes to hours by diving by 60\n",
    "hours = time/60\n",
    "print(str(hours) + \" hours\")\n",
    "# Result: 3.3333333333333335 hours"
   ]
  },
  {
   "cell_type": "markdown",
   "id": "634572bb-730e-4049-bc5a-13d71bf86ac4",
   "metadata": {},
   "source": [
    "**Exercise-11**"
   ]
  },
  {
   "cell_type": "markdown",
   "id": "1c5377d1-d963-4f9d-a9fa-d20bc1c6e6f5",
   "metadata": {},
   "source": [
    "## Author\n",
    "Anshaj Shukla"
   ]
  },
  {
   "cell_type": "code",
   "execution_count": null,
   "id": "d090a2c9-3796-4434-b542-88db34eac48e",
   "metadata": {},
   "outputs": [],
   "source": []
  }
 ],
 "metadata": {
  "kernelspec": {
   "display_name": "Python",
   "language": "python",
   "name": "conda-env-python-py"
  },
  "language_info": {
   "codemirror_mode": {
    "name": "ipython",
    "version": 3
   },
   "file_extension": ".py",
   "mimetype": "text/x-python",
   "name": "python",
   "nbconvert_exporter": "python",
   "pygments_lexer": "ipython3",
   "version": "3.7.12"
  }
 },
 "nbformat": 4,
 "nbformat_minor": 5
}
